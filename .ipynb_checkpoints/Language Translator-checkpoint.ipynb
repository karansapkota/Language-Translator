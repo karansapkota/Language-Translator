{
 "cells": [
  {
   "cell_type": "code",
   "execution_count": 1,
   "id": "ab7650a6-544e-478f-a637-3492117f543e",
   "metadata": {},
   "outputs": [],
   "source": [
    "from tkinter import *\n",
    "from tkinter import ttk\n",
    "from googletrans import Translator,LANGUAGES\n",
    "\n",
    "# from translate import Translator"
   ]
  },
  {
   "cell_type": "code",
   "execution_count": 2,
   "id": "2b34b1a4-2c6d-4bf5-8446-456e79d5528e",
   "metadata": {},
   "outputs": [],
   "source": [
    "import tkinter as tk\n",
    "\n",
    "root = tk.Tk()\n",
    "root.geometry('1100x320')\n",
    "root.resizable(0, 0)\n",
    "root.title('Language Translator')\n",
    "\n",
    "# Load the icon image\n",
    "icon_image = tk.PhotoImage(file='gt.png') \n",
    "\n",
    "# Set the window icon\n",
    "root.tk.call('wm', 'iconphoto', root._w, icon_image)\n",
    "\n",
    "root['bg'] = 'skyblue'\n",
    "\n",
    "# Add other widgets or labels as needed\n",
    "tk.Label(root, text=\"Language Translator\", font='Arial 20 bold').pack()\n"
   ]
  },
  {
   "cell_type": "code",
   "execution_count": 3,
   "id": "17446715-229a-4945-98c8-a7d9a7e6576c",
   "metadata": {},
   "outputs": [],
   "source": [
    "Label(root,text = \"Enter Text\", font = \"arial 13 bold\", bg = \"white smoke\").place(x=165, y=90)\n"
   ]
  },
  {
   "cell_type": "code",
   "execution_count": 4,
   "id": "6d648b92-e841-4723-89f7-5507344efc5f",
   "metadata": {},
   "outputs": [
    {
     "data": {
      "text/plain": [
       "''"
      ]
     },
     "execution_count": 4,
     "metadata": {},
     "output_type": "execute_result"
    }
   ],
   "source": [
    "Input_text = Entry(root, width=60)\n",
    "Input_text.place(x=30, y=130)\n",
    "Input_text.get()\n"
   ]
  },
  {
   "cell_type": "code",
   "execution_count": null,
   "id": "139d98bb-53eb-4b3e-bf1d-249c6c686f21",
   "metadata": {},
   "outputs": [],
   "source": [
    "Label(root,text = \"Output\", font = \"arial 13 bold\", bg =\"white smoke\").place(x=780, y=90)\n",
    "Output_text = Text(root, font = \"arial 10\", height = 5 ,wrap = WORD, padx=5, pady=5, width= 50)\n",
    "Output_text.place(x= 600, y=130)\n",
    "\n",
    "language = list(LANGUAGES.values())\n",
    "\n",
    "dest_lang = ttk.Combobox(root, values=language, width=22)\n",
    "dest_lang.place(x=130, y=180)\n",
    "dest_lang.set('choose language')\n",
    "\n",
    "def Translate():\n",
    "    translator = Translator()\n",
    "    translation = translator.translate(Input_text.get(), dest=dest_lang.get())\n",
    "    Output_text.delete(1.0, END)\n",
    "    Output_text.insert(END, translation)\n",
    "\n",
    "trans_btn = tk.Button(root, text='Translate', font='arial 12 bold', pady=5, command=Translate, bg='orange', activebackground='green')\n",
    "trans_btn.place(x=445, y=180)\n",
    "\n",
    "root.mainloop()\n",
    "\n"
   ]
  },
  {
   "cell_type": "code",
   "execution_count": null,
   "id": "a7581964-2214-4e83-b166-ab70259c54f2",
   "metadata": {},
   "outputs": [],
   "source": []
  }
 ],
 "metadata": {
  "kernelspec": {
   "display_name": "Python 3 (ipykernel)",
   "language": "python",
   "name": "python3"
  },
  "language_info": {
   "codemirror_mode": {
    "name": "ipython",
    "version": 3
   },
   "file_extension": ".py",
   "mimetype": "text/x-python",
   "name": "python",
   "nbconvert_exporter": "python",
   "pygments_lexer": "ipython3",
   "version": "3.11.7"
  }
 },
 "nbformat": 4,
 "nbformat_minor": 5
}
